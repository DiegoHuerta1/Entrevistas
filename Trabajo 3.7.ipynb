{
 "cells": [
  {
   "cell_type": "markdown",
   "id": "4f5b5bee",
   "metadata": {},
   "source": [
    "# Clusterizacion de las preguntas\n",
    "\n",
    "## Trabajo 3.7\n",
    "\n",
    "###  Usando Tfidf para la vectorizacion. Con preprosesamiento tipo2. Menos clusters\n",
    "\n",
    "A diferencia del trabajo 2, aca se consideran las preguntas, no todos los dialogos\n",
    "\n",
    "Ademas, se dejan las preguntas repetidas para que tengan mas \"peso\""
   ]
  },
  {
   "cell_type": "markdown",
   "id": "8d2bda60",
   "metadata": {},
   "source": [
    "Se usa la carpeta \"Datos (modificaciones manuales)\" donde se encuentar todas las entrevistas en formato correcto"
   ]
  },
  {
   "cell_type": "code",
   "execution_count": 1,
   "id": "0b68a166",
   "metadata": {},
   "outputs": [],
   "source": [
    "import pandas as pd\n",
    "import numpy as np\n",
    "import nltk\n",
    "from nltk import FreqDist\n",
    "import os\n",
    "import time\n",
    "from nltk.tokenize import wordpunct_tokenize\n",
    "from wordcloud import WordCloud\n",
    "from nltk.corpus import stopwords\n",
    "import matplotlib.pyplot as plt\n",
    "import string\n",
    "from sklearn.cluster import KMeans\n",
    "import matplotlib.pyplot as plt\n",
    "import spacy\n",
    "import re\n",
    "from unidecode import unidecode\n",
    "from numpy import save"
   ]
  },
  {
   "cell_type": "code",
   "execution_count": 2,
   "id": "7a687519",
   "metadata": {},
   "outputs": [],
   "source": [
    "from sklearn.feature_extraction.text import TfidfVectorizer"
   ]
  },
  {
   "cell_type": "code",
   "execution_count": 3,
   "id": "6f2ab96e",
   "metadata": {},
   "outputs": [],
   "source": [
    "# para cargar las entrevistas\n",
    "from Trabajo_1 import Entrevista"
   ]
  },
  {
   "cell_type": "code",
   "execution_count": 4,
   "id": "22468628",
   "metadata": {},
   "outputs": [],
   "source": [
    "carpeta_entrevistas = \"Datos (modificaciones manuales)\"\n",
    "carpeta_output = './/Resultados trabajo 3//'"
   ]
  },
  {
   "cell_type": "markdown",
   "id": "315dd6b0",
   "metadata": {},
   "source": [
    "### Lectura de datos"
   ]
  },
  {
   "cell_type": "code",
   "execution_count": 5,
   "id": "665aa353",
   "metadata": {},
   "outputs": [
    {
     "name": "stdout",
     "output_type": "stream",
     "text": [
      "Se tienen 38 entrevistas\n"
     ]
    }
   ],
   "source": [
    "# guardas los objetos creados en una lista\n",
    "entrevistas = []\n",
    "\n",
    "# checar todos\n",
    "for file in os.listdir('.\\\\' + carpeta_entrevistas):\n",
    "    ruta_archivo = os.path.join('.\\\\' + carpeta_entrevistas, file)\n",
    "    if os.path.isfile(ruta_archivo):\n",
    "        # crear el objeto y meterlo a la lista\n",
    "        entrevistas.append(Entrevista(carpeta_entrevistas, file, debug = 0))\n",
    "        \n",
    "num_entrevistas = len(entrevistas)\n",
    "print(f'Se tienen {num_entrevistas} entrevistas')"
   ]
  },
  {
   "cell_type": "markdown",
   "id": "9f65cd43",
   "metadata": {},
   "source": [
    "### Obtener todas las preguntas"
   ]
  },
  {
   "cell_type": "code",
   "execution_count": 6,
   "id": "10d4c100",
   "metadata": {},
   "outputs": [
    {
     "name": "stdout",
     "output_type": "stream",
     "text": [
      "Se tienen 3934 preguntas en total\n"
     ]
    }
   ],
   "source": [
    "preguntas = []\n",
    "\n",
    "for e in entrevistas:\n",
    "    # añadir las preguntas de esta entrevista\n",
    "    preguntas.extend(e.get_preguntas())\n",
    "\n",
    "\n",
    "print(f'Se tienen {len(preguntas)} preguntas en total')\n",
    "# por si se quiere la frecuencia de las preguntas mas adelante\n",
    "fdist_preguntas = nltk.FreqDist(preguntas)\n",
    "\n",
    "# tambien tenerlas en array, por si se nescesita\n",
    "preguntas_np = np.array(preguntas)"
   ]
  },
  {
   "cell_type": "markdown",
   "id": "b448796c",
   "metadata": {},
   "source": [
    "### Procesamiento de las preguntas\n",
    "\n",
    "Tipo 2 (En otros trabajos se consiera otro tipo de preprocesamiento)"
   ]
  },
  {
   "cell_type": "code",
   "execution_count": 7,
   "id": "9b999ffa",
   "metadata": {},
   "outputs": [],
   "source": [
    "# Obtener las stopwords en español\n",
    "stopwords_es = stopwords.words('spanish')\n",
    "# obtener signos de puntuacion\n",
    "punctuation = list(string.punctuation) + ['¿', '?,']\n",
    "\n",
    "# lista de tokens que no pasan el filtro\n",
    "lista_eliminar = stopwords_es + punctuation\n",
    "\n",
    "# pasar los paises al mismo nombre\n",
    "paises_latam = ['salvador', 'honduras', 'guatemala', 'nicaragua']\n",
    "\n",
    "# Cargar el modelo de idioma en español\n",
    "nlp = spacy.load('es_core_news_sm')\n",
    "\n",
    "def filtrar_tokens(tokens_list):\n",
    "    # toma una lista de tokens\n",
    "    # regresa los tokens sin stopwords y sin signos de puntuacion\n",
    "    # solo regresa los tokens de cierto tipo\n",
    "    # tambien se cambia el nombre de los paises\n",
    "    \n",
    "    \n",
    "    # primero quitas puntuacion y acentos, y haces minusculas\n",
    "    tokens_list = [unidecode(t).lower() for t in tokens_list if t.lower() not in lista_eliminar]\n",
    "    \n",
    "    \n",
    "    # pasar de tokens a string\n",
    "    string = ' '.join(tokens_list)\n",
    "    \n",
    "    # Procesar el texto con spaCy\n",
    "    doc = nlp(string)\n",
    "    \n",
    "\n",
    "    tokens_filtrados = []\n",
    "    # iterar con los tokens que crea scaCy\n",
    "    for token in doc:\n",
    "        # flitrar\n",
    "        if token.pos_ in ['NOUN', 'PROPN', 'ADJ', 'VERB', 'ADV'] and not token.is_stop:\n",
    "            tokens_filtrados.append(str(token).lower())\n",
    "    \n",
    "    \n",
    "    # normalizal nombre de paises\n",
    "    for idx, token in enumerate(tokens_filtrados):\n",
    "        if token in paises_latam:\n",
    "            tokens_filtrados[idx] = 'pais'\n",
    "    \n",
    "    # no se tienen tokens filtrados, delvover vacio\n",
    "    if len(tokens_filtrados) == 0:\n",
    "        return ['[VACIO]']\n",
    "        \n",
    "    return tokens_filtrados"
   ]
  },
  {
   "cell_type": "code",
   "execution_count": 8,
   "id": "2c2cdc55",
   "metadata": {},
   "outputs": [],
   "source": [
    "preguntas_procesadas = [' '.join(filtrar_tokens((wordpunct_tokenize(p)))) for p in preguntas]"
   ]
  },
  {
   "cell_type": "code",
   "execution_count": 9,
   "id": "e00653d3",
   "metadata": {},
   "outputs": [
    {
     "name": "stdout",
     "output_type": "stream",
     "text": [
      "¿Tú has tenido alguna vez, este… algún tipo de experiencia con algún lugar donde llegaste a buscar ayuda cuando te sentías triste, nervioso o nunca la has buscado?\n",
      "----------------------------------------------------------------------------------------------------\n",
      "algun tipo experiencia algun lugar llegaste buscar ayuda sentias triste nervioso buscado\n"
     ]
    }
   ],
   "source": [
    "# ver un ejemplo\n",
    "idx = 234\n",
    "print(preguntas[idx])\n",
    "print(\"-\"*100)\n",
    "print(preguntas_procesadas[idx])"
   ]
  },
  {
   "cell_type": "markdown",
   "id": "7560b38e",
   "metadata": {},
   "source": [
    "### Vectorizaciones de las preguntas"
   ]
  },
  {
   "cell_type": "code",
   "execution_count": 10,
   "id": "b9360593",
   "metadata": {},
   "outputs": [
    {
     "name": "stdout",
     "output_type": "stream",
     "text": [
      "Se tiene una lista de 3934 preguntas\n",
      "Por lo que se quiere construir una matriz X de dimensiones: 3934 x d\n"
     ]
    }
   ],
   "source": [
    "print(f'Se tiene una lista de {len(preguntas)} preguntas')\n",
    "print(f'Por lo que se quiere construir una matriz X de dimensiones: {len(preguntas)} x d')"
   ]
  },
  {
   "cell_type": "code",
   "execution_count": 11,
   "id": "e7f10304",
   "metadata": {},
   "outputs": [
    {
     "name": "stdout",
     "output_type": "stream",
     "text": [
      "Listo. Tiempo en segundos: 0.06599903106689453\n"
     ]
    }
   ],
   "source": [
    "start_time = time.time()\n",
    "\n",
    "vectorizer = TfidfVectorizer(analyzer = 'word', norm = 'l2', ngram_range = (1, 3), min_df = 2)\n",
    "X = vectorizer.fit_transform(preguntas_procesadas)\n",
    "X = X.toarray()\n",
    "\n",
    "print('Listo. Tiempo en segundos:', time.time() - start_time)"
   ]
  },
  {
   "cell_type": "code",
   "execution_count": 12,
   "id": "17f85b41",
   "metadata": {},
   "outputs": [
    {
     "name": "stdout",
     "output_type": "stream",
     "text": [
      "Se construyo una matriz X de dimensiones: 3934 x 5833\n"
     ]
    }
   ],
   "source": [
    "print(f'Se construyo una matriz X de dimensiones: {X.shape[0]} x {X.shape[1]}')"
   ]
  },
  {
   "cell_type": "markdown",
   "id": "40bdf980",
   "metadata": {},
   "source": [
    "### Creacion de los clusters"
   ]
  },
  {
   "cell_type": "code",
   "execution_count": 13,
   "id": "14ba2aa3",
   "metadata": {},
   "outputs": [],
   "source": [
    "k = 20\n",
    "\n",
    "model = KMeans(n_clusters=k, n_init= 10, random_state= 10)\n",
    "y = model.fit_predict(X)"
   ]
  },
  {
   "cell_type": "code",
   "execution_count": 14,
   "id": "3c7b2b0c",
   "metadata": {},
   "outputs": [],
   "source": [
    "# frecuencias de las etiquetas de los clusters\n",
    "# es un diccionaro de pares (numero_cluster, cantidad de elmentos)\n",
    "fdist_y = nltk.FreqDist(y)\n",
    "\n",
    "\n",
    "# poner las frecuencias de clusters en una lista\n",
    "# que es de pares (cluster, frecuencia)\n",
    "clusters_frecuencia = [(key, fdist_y[key]) for key in fdist_y]\n",
    "# ordenarla para que vaya del cluster_0 al ultimo cluster\n",
    "clusters_frecuencia.sort()\n",
    "\n",
    "\n",
    "# obtener los clusters y sus respectivas frecuencuias en listas separadas\n",
    "clusters = [cluster_freq[0] for cluster_freq in clusters_frecuencia]\n",
    "frecuencias = [cluster_freq[1] for cluster_freq in clusters_frecuencia]\n"
   ]
  },
  {
   "cell_type": "markdown",
   "id": "2ef5e3f4",
   "metadata": {},
   "source": [
    "### Ver frecuencias de los clusters\n"
   ]
  },
  {
   "cell_type": "code",
   "execution_count": 15,
   "id": "f36ef7ea",
   "metadata": {},
   "outputs": [
    {
     "data": {
      "image/png": "[encoded data removed]",
      "text/plain": [
       "<Figure size 1500x500 with 2 Axes>"
      ]
     },
     "metadata": {},
     "output_type": "display_data"
    },
    {
     "name": "stdout",
     "output_type": "stream",
     "text": [
      "El 5.13% de los vectores del cluster mas grande (18) son el vector 0\n"
     ]
    }
   ],
   "source": [
    "fig, (ax1, ax2) = plt.subplots(1, 2, figsize = (15, 5))\n",
    "\n",
    "# pie cahrt\n",
    "ax1.pie(frecuencias, labels=clusters)\n",
    "# bar chart\n",
    "ax2.bar(clusters, frecuencias)\n",
    "ax2.set_xticks(clusters)\n",
    "\n",
    "plt.suptitle(f'Frecuencias de los {k} clusters', fontsize=22, fontweight='bold')\n",
    "\n",
    "# salvar\n",
    "nombre_save= 'Frecuencia de clusters'\n",
    "\n",
    "plt.show()\n",
    "\n",
    "# ver si se tienen clusters con un elemento\n",
    "clusters_uno = fdist_y.hapaxes()\n",
    "for cluster_i in clusters_uno:\n",
    "    print(f'El cluster {cluster_i} tiene un elemento')\n",
    "    \n",
    "\n",
    "# ver si un cluster esta compuesto de muchos vectores 0\n",
    "cluster_mas_grande = fdist_y.most_common(1)[0][0]\n",
    "vectores_cluster_gigante = X[y == cluster_mas_grande]\n",
    "# porcentaje de vetores 0 en el cluster mas grande\n",
    "v = sum((vectores_cluster_gigante==0).all(axis = 1))/len(vectores_cluster_gigante)\n",
    "print('El {:0.2f}% de los vectores del cluster mas grande ({}) son el vector 0'.format(100*v, cluster_mas_grande))"
   ]
  },
  {
   "cell_type": "markdown",
   "id": "5f0748ee",
   "metadata": {},
   "source": [
    "### Creacion de un Data Frame con los resultados\n",
    "\n",
    "Poner las preguntas, las preguntas procesadas y el cluster"
   ]
  },
  {
   "cell_type": "code",
   "execution_count": 16,
   "id": "14bcaa0e",
   "metadata": {},
   "outputs": [],
   "source": [
    "assert len(preguntas) == len(y)\n",
    "\n",
    "# hacer un df con la pregunta y el cluster\n",
    "df_final = pd.DataFrame()\n",
    "\n",
    "df_final['pregunta'] = preguntas\n",
    "df_final['pregunta_procesada'] = preguntas_procesadas\n",
    "df_final['cluster'] = y\n",
    "\n",
    "# ordenar por cluster\n",
    "df_final = df_final.sort_values('cluster')\n",
    "\n",
    "# quitar repetidos\n",
    "df_final = df_final.drop_duplicates(subset = 'pregunta')\n",
    "\n",
    "# salvar el df \n",
    "df_final.to_csv(carpeta_output + 'clusters_3_7.csv', encoding='utf-8-sig', index=False)"
   ]
  },
  {
   "cell_type": "code",
   "execution_count": 17,
   "id": "0417901e",
   "metadata": {},
   "outputs": [],
   "source": [
    "# salvar los vectores\n",
    "save(carpeta_output + 'X_3_7.npy', X)"
   ]
  }
 ],
 "metadata": {
  "kernelspec": {
   "display_name": "pruebas",
   "language": "python",
   "name": "pruebas"
  },
  "language_info": {
   "codemirror_mode": {
    "name": "ipython",
    "version": 3
   },
   "file_extension": ".py",
   "mimetype": "text/x-python",
   "name": "python",
   "nbconvert_exporter": "python",
   "pygments_lexer": "ipython3",
   "version": "3.9.16"
  }
 },
 "nbformat": 4,
 "nbformat_minor": 5
}
